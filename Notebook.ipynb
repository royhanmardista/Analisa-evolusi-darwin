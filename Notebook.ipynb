{
 "cells": [
  {
   "cell_type": "markdown",
   "metadata": {},
   "source": [
    "## Pengujian teory darwin (seleksi alam species geospiza fortis di Galapagos Islands)\n",
    "pada project kali ini saya akan melakukan analisis terhadap perubahan species burung di sebuah pulau terpencil di Galapagos Islands, pulau ini dipilih oleh karena tidak adanya interaksi habitat dengan manusia dan faktor luar lain sehingga proses seleksi alam terjadi hanya pada faktor yang bisa diamati dari pulau tersebut, data diambil dari tahun 1975 sampai 2012 oleh kelompok ilmuan dari princeton university bernama peter and rosemary grant."
   ]
  },
  {
   "cell_type": "code",
   "execution_count": 1,
   "metadata": {},
   "outputs": [],
   "source": [
    "import pandas as pd\n",
    "import seaborn as sns\n",
    "import matplotlib.pyplot as plt\n",
    "import numpy as np"
   ]
  },
  {
   "cell_type": "markdown",
   "metadata": {},
   "source": [
    "## Data Cleaning"
   ]
  },
  {
   "cell_type": "code",
   "execution_count": 2,
   "metadata": {},
   "outputs": [],
   "source": [
    "# pembacaan data\n",
    "df1 = pd.read_csv('finch_beaks_1975.csv')\n",
    "df2 = pd.read_csv('finch_beaks_2012.csv')"
   ]
  },
  {
   "cell_type": "code",
   "execution_count": 3,
   "metadata": {},
   "outputs": [],
   "source": [
    "# rubah nama kolum sebelum kita gabung datanya\n",
    "df1.columns = ['band', 'species', 'blength', 'bdepth']"
   ]
  },
  {
   "cell_type": "code",
   "execution_count": 4,
   "metadata": {},
   "outputs": [
    {
     "data": {
      "text/html": [
       "<div>\n",
       "<style scoped>\n",
       "    .dataframe tbody tr th:only-of-type {\n",
       "        vertical-align: middle;\n",
       "    }\n",
       "\n",
       "    .dataframe tbody tr th {\n",
       "        vertical-align: top;\n",
       "    }\n",
       "\n",
       "    .dataframe thead th {\n",
       "        text-align: right;\n",
       "    }\n",
       "</style>\n",
       "<table border=\"1\" class=\"dataframe\">\n",
       "  <thead>\n",
       "    <tr style=\"text-align: right;\">\n",
       "      <th></th>\n",
       "      <th>band</th>\n",
       "      <th>species</th>\n",
       "      <th>blength</th>\n",
       "      <th>bdepth</th>\n",
       "    </tr>\n",
       "  </thead>\n",
       "  <tbody>\n",
       "    <tr>\n",
       "      <th>316</th>\n",
       "      <td>302</td>\n",
       "      <td>scandens</td>\n",
       "      <td>13.9</td>\n",
       "      <td>8.4</td>\n",
       "    </tr>\n",
       "    <tr>\n",
       "      <th>317</th>\n",
       "      <td>304</td>\n",
       "      <td>scandens</td>\n",
       "      <td>14.0</td>\n",
       "      <td>8.8</td>\n",
       "    </tr>\n",
       "    <tr>\n",
       "      <th>318</th>\n",
       "      <td>306</td>\n",
       "      <td>scandens</td>\n",
       "      <td>12.9</td>\n",
       "      <td>8.4</td>\n",
       "    </tr>\n",
       "    <tr>\n",
       "      <th>319</th>\n",
       "      <td>310</td>\n",
       "      <td>scandens</td>\n",
       "      <td>13.5</td>\n",
       "      <td>8.0</td>\n",
       "    </tr>\n",
       "    <tr>\n",
       "      <th>320</th>\n",
       "      <td>317</td>\n",
       "      <td>scandens</td>\n",
       "      <td>12.9</td>\n",
       "      <td>7.9</td>\n",
       "    </tr>\n",
       "  </tbody>\n",
       "</table>\n",
       "</div>"
      ],
      "text/plain": [
       "     band   species  blength  bdepth\n",
       "316   302  scandens     13.9     8.4\n",
       "317   304  scandens     14.0     8.8\n",
       "318   306  scandens     12.9     8.4\n",
       "319   310  scandens     13.5     8.0\n",
       "320   317  scandens     12.9     7.9"
      ]
     },
     "execution_count": 4,
     "metadata": {},
     "output_type": "execute_result"
    }
   ],
   "source": [
    "df1[df1.species == 'scandens' ].head()"
   ]
  },
  {
   "cell_type": "code",
   "execution_count": 5,
   "metadata": {},
   "outputs": [
    {
     "data": {
      "text/html": [
       "<div>\n",
       "<style scoped>\n",
       "    .dataframe tbody tr th:only-of-type {\n",
       "        vertical-align: middle;\n",
       "    }\n",
       "\n",
       "    .dataframe tbody tr th {\n",
       "        vertical-align: top;\n",
       "    }\n",
       "\n",
       "    .dataframe thead th {\n",
       "        text-align: right;\n",
       "    }\n",
       "</style>\n",
       "<table border=\"1\" class=\"dataframe\">\n",
       "  <thead>\n",
       "    <tr style=\"text-align: right;\">\n",
       "      <th></th>\n",
       "      <th>band</th>\n",
       "      <th>species</th>\n",
       "      <th>blength</th>\n",
       "      <th>bdepth</th>\n",
       "    </tr>\n",
       "  </thead>\n",
       "  <tbody>\n",
       "    <tr>\n",
       "      <th>121</th>\n",
       "      <td>19026</td>\n",
       "      <td>scandens</td>\n",
       "      <td>14.3</td>\n",
       "      <td>9.4</td>\n",
       "    </tr>\n",
       "    <tr>\n",
       "      <th>122</th>\n",
       "      <td>19028</td>\n",
       "      <td>scandens</td>\n",
       "      <td>12.5</td>\n",
       "      <td>8.9</td>\n",
       "    </tr>\n",
       "    <tr>\n",
       "      <th>123</th>\n",
       "      <td>19029</td>\n",
       "      <td>scandens</td>\n",
       "      <td>13.7</td>\n",
       "      <td>9.5</td>\n",
       "    </tr>\n",
       "    <tr>\n",
       "      <th>124</th>\n",
       "      <td>19094</td>\n",
       "      <td>scandens</td>\n",
       "      <td>13.8</td>\n",
       "      <td>11.0</td>\n",
       "    </tr>\n",
       "    <tr>\n",
       "      <th>125</th>\n",
       "      <td>19122</td>\n",
       "      <td>scandens</td>\n",
       "      <td>12.0</td>\n",
       "      <td>8.7</td>\n",
       "    </tr>\n",
       "  </tbody>\n",
       "</table>\n",
       "</div>"
      ],
      "text/plain": [
       "      band   species  blength  bdepth\n",
       "121  19026  scandens     14.3     9.4\n",
       "122  19028  scandens     12.5     8.9\n",
       "123  19029  scandens     13.7     9.5\n",
       "124  19094  scandens     13.8    11.0\n",
       "125  19122  scandens     12.0     8.7"
      ]
     },
     "execution_count": 5,
     "metadata": {},
     "output_type": "execute_result"
    }
   ],
   "source": [
    "df2[df2.species == 'scandens' ].head()"
   ]
  },
  {
   "cell_type": "code",
   "execution_count": 6,
   "metadata": {},
   "outputs": [],
   "source": [
    "df2['year'] = 2012\n",
    "df1['year'] = 1975"
   ]
  },
  {
   "cell_type": "code",
   "execution_count": 7,
   "metadata": {},
   "outputs": [],
   "source": [
    "#kita akan buang data yang tidak kitabutuhkan\n",
    "df1.drop('band', axis=1, inplace=True)\n",
    "df2.drop('band', axis=1, inplace=True)\n"
   ]
  },
  {
   "cell_type": "code",
   "execution_count": 8,
   "metadata": {},
   "outputs": [],
   "source": [
    "fortis = pd.concat([df1[df1.species == 'scandens' ], df2[df2.species == 'scandens' ]], sort=False, ignore_index=True)"
   ]
  },
  {
   "cell_type": "code",
   "execution_count": 9,
   "metadata": {},
   "outputs": [
    {
     "data": {
      "text/html": [
       "<div>\n",
       "<style scoped>\n",
       "    .dataframe tbody tr th:only-of-type {\n",
       "        vertical-align: middle;\n",
       "    }\n",
       "\n",
       "    .dataframe tbody tr th {\n",
       "        vertical-align: top;\n",
       "    }\n",
       "\n",
       "    .dataframe thead th {\n",
       "        text-align: right;\n",
       "    }\n",
       "</style>\n",
       "<table border=\"1\" class=\"dataframe\">\n",
       "  <thead>\n",
       "    <tr style=\"text-align: right;\">\n",
       "      <th></th>\n",
       "      <th>species</th>\n",
       "      <th>blength</th>\n",
       "      <th>bdepth</th>\n",
       "      <th>year</th>\n",
       "    </tr>\n",
       "  </thead>\n",
       "  <tbody>\n",
       "    <tr>\n",
       "      <th>0</th>\n",
       "      <td>scandens</td>\n",
       "      <td>13.9</td>\n",
       "      <td>8.4</td>\n",
       "      <td>1975</td>\n",
       "    </tr>\n",
       "    <tr>\n",
       "      <th>1</th>\n",
       "      <td>scandens</td>\n",
       "      <td>14.0</td>\n",
       "      <td>8.8</td>\n",
       "      <td>1975</td>\n",
       "    </tr>\n",
       "    <tr>\n",
       "      <th>2</th>\n",
       "      <td>scandens</td>\n",
       "      <td>12.9</td>\n",
       "      <td>8.4</td>\n",
       "      <td>1975</td>\n",
       "    </tr>\n",
       "    <tr>\n",
       "      <th>3</th>\n",
       "      <td>scandens</td>\n",
       "      <td>13.5</td>\n",
       "      <td>8.0</td>\n",
       "      <td>1975</td>\n",
       "    </tr>\n",
       "    <tr>\n",
       "      <th>4</th>\n",
       "      <td>scandens</td>\n",
       "      <td>12.9</td>\n",
       "      <td>7.9</td>\n",
       "      <td>1975</td>\n",
       "    </tr>\n",
       "  </tbody>\n",
       "</table>\n",
       "</div>"
      ],
      "text/plain": [
       "    species  blength  bdepth  year\n",
       "0  scandens     13.9     8.4  1975\n",
       "1  scandens     14.0     8.8  1975\n",
       "2  scandens     12.9     8.4  1975\n",
       "3  scandens     13.5     8.0  1975\n",
       "4  scandens     12.9     7.9  1975"
      ]
     },
     "execution_count": 9,
     "metadata": {},
     "output_type": "execute_result"
    }
   ],
   "source": [
    "fortis.head()"
   ]
  },
  {
   "cell_type": "markdown",
   "metadata": {},
   "source": [
    "## EDA ( exploratory data analysis) dari panjang paruh burung geospiza fortis \n",
    "\n",
    "\n",
    "kita akan melihat bagaimana panjang paruh (jarak, atas ke bawah, paruh tertutup) spesies Geospiza scandens telah berubah dari waktu ke waktu."
   ]
  },
  {
   "cell_type": "code",
   "execution_count": 10,
   "metadata": {},
   "outputs": [
    {
     "data": {
      "image/png": "[encoded data removed]",
      "text/plain": [
       "<Figure size 432x288 with 1 Axes>"
      ]
     },
     "metadata": {
      "needs_background": "light"
     },
     "output_type": "display_data"
    }
   ],
   "source": [
    "# buat tabel beeswarm dengan seaborn\n",
    "_ = sns.swarmplot('year', 'bdepth', data=fortis)\n",
    "\n",
    "_ = plt.xlabel('tahun')\n",
    "_ = plt.ylabel('lebar paruh (mm)')\n",
    "\n",
    "plt.show()"
   ]
  },
  {
   "cell_type": "markdown",
   "metadata": {},
   "source": [
    "Agak sulit untuk melihat apakah ada perbedaan yang jelas antara data tahun 1975 dan 2012. akan tetapi, terlihat bahwa rata-rata data 2012 mungkin sedikit lebih tinggi, dan mungkin memiliki varian yang lebih besar."
   ]
  },
  {
   "cell_type": "markdown",
   "metadata": {},
   "source": [
    "## Empirical Comulative Distribution Function (ECDF) dari lebar paruh\n",
    "\n",
    "Meskipun sudah digunkan beswam plot, kita tahu bahwa menggunakan ECDF seringkali lebih baik ketika melakukan EDA. kita akan melihat Plot ECDF untuk pengukuran panjang paruh 1975 dan 2012."
   ]
  },
  {
   "cell_type": "code",
   "execution_count": 11,
   "metadata": {},
   "outputs": [],
   "source": [
    "# kita pisah data sebelum melakukan ecdf\n",
    "data1975 = df1[df1.species == 'scandens'][['bdepth']].sort_values('bdepth')\n",
    "data2012 = df2[df2.species == 'scandens'][['bdepth']].sort_values('bdepth')"
   ]
  },
  {
   "cell_type": "code",
   "execution_count": 12,
   "metadata": {},
   "outputs": [
    {
     "data": {
      "text/html": [
       "<div>\n",
       "<style scoped>\n",
       "    .dataframe tbody tr th:only-of-type {\n",
       "        vertical-align: middle;\n",
       "    }\n",
       "\n",
       "    .dataframe tbody tr th {\n",
       "        vertical-align: top;\n",
       "    }\n",
       "\n",
       "    .dataframe thead th {\n",
       "        text-align: right;\n",
       "    }\n",
       "</style>\n",
       "<table border=\"1\" class=\"dataframe\">\n",
       "  <thead>\n",
       "    <tr style=\"text-align: right;\">\n",
       "      <th></th>\n",
       "      <th>bdepth</th>\n",
       "    </tr>\n",
       "  </thead>\n",
       "  <tbody>\n",
       "    <tr>\n",
       "      <th>0</th>\n",
       "      <td>7.7</td>\n",
       "    </tr>\n",
       "    <tr>\n",
       "      <th>1</th>\n",
       "      <td>7.7</td>\n",
       "    </tr>\n",
       "    <tr>\n",
       "      <th>2</th>\n",
       "      <td>7.8</td>\n",
       "    </tr>\n",
       "    <tr>\n",
       "      <th>3</th>\n",
       "      <td>7.9</td>\n",
       "    </tr>\n",
       "    <tr>\n",
       "      <th>4</th>\n",
       "      <td>8.0</td>\n",
       "    </tr>\n",
       "    <tr>\n",
       "      <th>5</th>\n",
       "      <td>8.0</td>\n",
       "    </tr>\n",
       "    <tr>\n",
       "      <th>6</th>\n",
       "      <td>8.0</td>\n",
       "    </tr>\n",
       "    <tr>\n",
       "      <th>7</th>\n",
       "      <td>8.1</td>\n",
       "    </tr>\n",
       "    <tr>\n",
       "      <th>8</th>\n",
       "      <td>8.1</td>\n",
       "    </tr>\n",
       "    <tr>\n",
       "      <th>9</th>\n",
       "      <td>8.2</td>\n",
       "    </tr>\n",
       "    <tr>\n",
       "      <th>10</th>\n",
       "      <td>8.2</td>\n",
       "    </tr>\n",
       "    <tr>\n",
       "      <th>11</th>\n",
       "      <td>8.3</td>\n",
       "    </tr>\n",
       "    <tr>\n",
       "      <th>12</th>\n",
       "      <td>8.3</td>\n",
       "    </tr>\n",
       "    <tr>\n",
       "      <th>13</th>\n",
       "      <td>8.4</td>\n",
       "    </tr>\n",
       "    <tr>\n",
       "      <th>14</th>\n",
       "      <td>8.4</td>\n",
       "    </tr>\n",
       "    <tr>\n",
       "      <th>15</th>\n",
       "      <td>8.4</td>\n",
       "    </tr>\n",
       "    <tr>\n",
       "      <th>16</th>\n",
       "      <td>8.4</td>\n",
       "    </tr>\n",
       "    <tr>\n",
       "      <th>17</th>\n",
       "      <td>8.4</td>\n",
       "    </tr>\n",
       "    <tr>\n",
       "      <th>18</th>\n",
       "      <td>8.4</td>\n",
       "    </tr>\n",
       "    <tr>\n",
       "      <th>19</th>\n",
       "      <td>8.5</td>\n",
       "    </tr>\n",
       "    <tr>\n",
       "      <th>20</th>\n",
       "      <td>8.5</td>\n",
       "    </tr>\n",
       "    <tr>\n",
       "      <th>21</th>\n",
       "      <td>8.5</td>\n",
       "    </tr>\n",
       "    <tr>\n",
       "      <th>22</th>\n",
       "      <td>8.5</td>\n",
       "    </tr>\n",
       "    <tr>\n",
       "      <th>23</th>\n",
       "      <td>8.6</td>\n",
       "    </tr>\n",
       "    <tr>\n",
       "      <th>24</th>\n",
       "      <td>8.6</td>\n",
       "    </tr>\n",
       "    <tr>\n",
       "      <th>25</th>\n",
       "      <td>8.7</td>\n",
       "    </tr>\n",
       "    <tr>\n",
       "      <th>26</th>\n",
       "      <td>8.7</td>\n",
       "    </tr>\n",
       "    <tr>\n",
       "      <th>27</th>\n",
       "      <td>8.7</td>\n",
       "    </tr>\n",
       "    <tr>\n",
       "      <th>28</th>\n",
       "      <td>8.7</td>\n",
       "    </tr>\n",
       "    <tr>\n",
       "      <th>29</th>\n",
       "      <td>8.7</td>\n",
       "    </tr>\n",
       "    <tr>\n",
       "      <th>...</th>\n",
       "      <td>...</td>\n",
       "    </tr>\n",
       "    <tr>\n",
       "      <th>97</th>\n",
       "      <td>9.6</td>\n",
       "    </tr>\n",
       "    <tr>\n",
       "      <th>98</th>\n",
       "      <td>9.6</td>\n",
       "    </tr>\n",
       "    <tr>\n",
       "      <th>99</th>\n",
       "      <td>9.7</td>\n",
       "    </tr>\n",
       "    <tr>\n",
       "      <th>100</th>\n",
       "      <td>9.7</td>\n",
       "    </tr>\n",
       "    <tr>\n",
       "      <th>101</th>\n",
       "      <td>9.8</td>\n",
       "    </tr>\n",
       "    <tr>\n",
       "      <th>102</th>\n",
       "      <td>9.8</td>\n",
       "    </tr>\n",
       "    <tr>\n",
       "      <th>103</th>\n",
       "      <td>9.8</td>\n",
       "    </tr>\n",
       "    <tr>\n",
       "      <th>104</th>\n",
       "      <td>9.8</td>\n",
       "    </tr>\n",
       "    <tr>\n",
       "      <th>105</th>\n",
       "      <td>9.8</td>\n",
       "    </tr>\n",
       "    <tr>\n",
       "      <th>106</th>\n",
       "      <td>9.8</td>\n",
       "    </tr>\n",
       "    <tr>\n",
       "      <th>107</th>\n",
       "      <td>9.8</td>\n",
       "    </tr>\n",
       "    <tr>\n",
       "      <th>108</th>\n",
       "      <td>9.8</td>\n",
       "    </tr>\n",
       "    <tr>\n",
       "      <th>109</th>\n",
       "      <td>9.9</td>\n",
       "    </tr>\n",
       "    <tr>\n",
       "      <th>110</th>\n",
       "      <td>9.9</td>\n",
       "    </tr>\n",
       "    <tr>\n",
       "      <th>111</th>\n",
       "      <td>10.0</td>\n",
       "    </tr>\n",
       "    <tr>\n",
       "      <th>112</th>\n",
       "      <td>10.0</td>\n",
       "    </tr>\n",
       "    <tr>\n",
       "      <th>113</th>\n",
       "      <td>10.0</td>\n",
       "    </tr>\n",
       "    <tr>\n",
       "      <th>114</th>\n",
       "      <td>10.0</td>\n",
       "    </tr>\n",
       "    <tr>\n",
       "      <th>115</th>\n",
       "      <td>10.0</td>\n",
       "    </tr>\n",
       "    <tr>\n",
       "      <th>116</th>\n",
       "      <td>10.2</td>\n",
       "    </tr>\n",
       "    <tr>\n",
       "      <th>117</th>\n",
       "      <td>10.2</td>\n",
       "    </tr>\n",
       "    <tr>\n",
       "      <th>118</th>\n",
       "      <td>10.2</td>\n",
       "    </tr>\n",
       "    <tr>\n",
       "      <th>119</th>\n",
       "      <td>10.2</td>\n",
       "    </tr>\n",
       "    <tr>\n",
       "      <th>120</th>\n",
       "      <td>10.2</td>\n",
       "    </tr>\n",
       "    <tr>\n",
       "      <th>121</th>\n",
       "      <td>10.5</td>\n",
       "    </tr>\n",
       "    <tr>\n",
       "      <th>122</th>\n",
       "      <td>10.5</td>\n",
       "    </tr>\n",
       "    <tr>\n",
       "      <th>123</th>\n",
       "      <td>10.6</td>\n",
       "    </tr>\n",
       "    <tr>\n",
       "      <th>124</th>\n",
       "      <td>10.6</td>\n",
       "    </tr>\n",
       "    <tr>\n",
       "      <th>125</th>\n",
       "      <td>10.8</td>\n",
       "    </tr>\n",
       "    <tr>\n",
       "      <th>126</th>\n",
       "      <td>11.0</td>\n",
       "    </tr>\n",
       "  </tbody>\n",
       "</table>\n",
       "<p>127 rows × 1 columns</p>\n",
       "</div>"
      ],
      "text/plain": [
       "     bdepth\n",
       "0       7.7\n",
       "1       7.7\n",
       "2       7.8\n",
       "3       7.9\n",
       "4       8.0\n",
       "5       8.0\n",
       "6       8.0\n",
       "7       8.1\n",
       "8       8.1\n",
       "9       8.2\n",
       "10      8.2\n",
       "11      8.3\n",
       "12      8.3\n",
       "13      8.4\n",
       "14      8.4\n",
       "15      8.4\n",
       "16      8.4\n",
       "17      8.4\n",
       "18      8.4\n",
       "19      8.5\n",
       "20      8.5\n",
       "21      8.5\n",
       "22      8.5\n",
       "23      8.6\n",
       "24      8.6\n",
       "25      8.7\n",
       "26      8.7\n",
       "27      8.7\n",
       "28      8.7\n",
       "29      8.7\n",
       "..      ...\n",
       "97      9.6\n",
       "98      9.6\n",
       "99      9.7\n",
       "100     9.7\n",
       "101     9.8\n",
       "102     9.8\n",
       "103     9.8\n",
       "104     9.8\n",
       "105     9.8\n",
       "106     9.8\n",
       "107     9.8\n",
       "108     9.8\n",
       "109     9.9\n",
       "110     9.9\n",
       "111    10.0\n",
       "112    10.0\n",
       "113    10.0\n",
       "114    10.0\n",
       "115    10.0\n",
       "116    10.2\n",
       "117    10.2\n",
       "118    10.2\n",
       "119    10.2\n",
       "120    10.2\n",
       "121    10.5\n",
       "122    10.5\n",
       "123    10.6\n",
       "124    10.6\n",
       "125    10.8\n",
       "126    11.0\n",
       "\n",
       "[127 rows x 1 columns]"
      ]
     },
     "execution_count": 12,
     "metadata": {},
     "output_type": "execute_result"
    }
   ],
   "source": [
    "data1975.reset_index(drop=True)\n",
    "data2012.reset_index(drop=True)"
   ]
  },
  {
   "cell_type": "code",
   "execution_count": 13,
   "metadata": {},
   "outputs": [],
   "source": [
    "# kita akan biat fungsi ECDF\n",
    "\n",
    "def ecdf(data):\n",
    "    \"\"\"melakukan perhitungan ecdf untuk 1-d array.\"\"\"\n",
    "    # panjang data: n\n",
    "    n = len(data)\n",
    "\n",
    "    # data pada sumbu x\n",
    "    x= np.sort(data)\n",
    "\n",
    "    # data pada sumbu y\n",
    "    y= np.arange(1, n+1) / n\n",
    "\n",
    "    return x, y"
   ]
  },
  {
   "cell_type": "code",
   "execution_count": 14,
   "metadata": {},
   "outputs": [
    {
     "data": {
      "image/png": "[encoded data removed]",
      "text/plain": [
       "<Figure size 432x288 with 1 Axes>"
      ]
     },
     "metadata": {
      "needs_background": "light"
     },
     "output_type": "display_data"
    }
   ],
   "source": [
    "# hitung ECDFs\n",
    "x_1975, y_1975 = ecdf(data1975)\n",
    "x_2012, y_2012 = ecdf(data2012)\n",
    "\n",
    "# Plot ECDFs\n",
    "_ = plt.plot(x_1975, y_1975, marker='.', linestyle='none')\n",
    "_ = plt.plot(x_2012, y_2012, marker='.', linestyle='none')\n",
    "\n",
    "# Set margins\n",
    "plt.margins(0.02)\n",
    "\n",
    "# label dan legend\n",
    "_ = plt.xlabel('beak depth (mm)')\n",
    "_ = plt.ylabel('ECDF')\n",
    "_ = plt.legend(('1975', '2012'), loc='lower right')\n",
    "\n",
    "# tampilkan plot\n",
    "plt.show()"
   ]
  },
  {
   "cell_type": "markdown",
   "metadata": {},
   "source": [
    "Perbedaannya jauh lebih jelas dalam ECDF. nilai mean data 2012 lebih besar, dengan varian yang juga tampak lebih besar.\n"
   ]
  },
  {
   "cell_type": "markdown",
   "metadata": {},
   "source": [
    "## Perkiraan parameter panjang paruh\n",
    "\n",
    "perkiraan perbedaan panjang paruh rata-rata sampel G. scandens dari tahun 1975 dan 2012 dengan interval kepercayaan 95%."
   ]
  },
  {
   "cell_type": "code",
   "execution_count": 15,
   "metadata": {},
   "outputs": [],
   "source": [
    "# buat menjadi 1d array\n",
    "data_2012 =  np.array(data2012.bdepth)\n",
    "data_1975 =  np.array(data1975.bdepth)"
   ]
  },
  {
   "cell_type": "code",
   "execution_count": 16,
   "metadata": {},
   "outputs": [],
   "source": [
    "# menbuat fungsi bootstrap cinvidence interval\n",
    "\n",
    "def bootstrap_replicate_1d(data, func):\n",
    "    # func datap diisi np.mean atau np.var\n",
    "    # lihat mana yang normal distribution\n",
    "    return func(np.random.choice(data, size=len(data)))\n",
    "\n",
    "def draw_bs_reps(data, func, size=1):\n",
    "    \"\"\"membuat bootstrap\"\"\"\n",
    "\n",
    "    # array akan diisi hasil replika\n",
    "    bs_replicates = np.empty(size)\n",
    "\n",
    "    # membuat replika\n",
    "    for i in range(size):\n",
    "        bs_replicates[i] = bootstrap_replicate_1d(data,func)\n",
    "\n",
    "    return bs_replicates"
   ]
  },
  {
   "cell_type": "code",
   "execution_count": 17,
   "metadata": {},
   "outputs": [
    {
     "name": "stdout",
     "output_type": "stream",
     "text": [
      "difference of means = 0.2262204724409429 mm\n",
      "95% confidence interval = [0.06050032 0.39436481] mm\n"
     ]
    }
   ],
   "source": [
    "# hitung perbedaan mean sample\n",
    "mean_diff = np.mean(data_2012) - np.mean(data_1975)\n",
    "\n",
    "# membuat bootstrap\n",
    "bs_replicates_1975 = draw_bs_reps(data_1975, np.mean, 10000)\n",
    "bs_replicates_2012 = draw_bs_reps(data_2012, np.mean, 10000)\n",
    "\n",
    "# hitung perbedaan mean bootstrap\n",
    "bs_diff_replicates = bs_replicates_2012 - bs_replicates_1975\n",
    "\n",
    "# perhitungan dengan interval kepercayaan 95%\n",
    "conf_int = np.percentile(bs_diff_replicates, [2.5, 97.5])\n",
    "\n",
    "# lihat hasilnya\n",
    "print('difference of means =', mean_diff, 'mm')\n",
    "print('95% confidence interval =', conf_int, 'mm')"
   ]
  },
  {
   "cell_type": "markdown",
   "metadata": {},
   "source": [
    "perubahan sebesar 0,2 mm dalam 37 tahun adalah perubahan yang substansial oleh standar evolusi. Jika terus berubah pada level itu, lebar paruh akan menjadi 2 kali semula hanya dalam 400 tahun."
   ]
  },
  {
   "cell_type": "markdown",
   "metadata": {},
   "source": [
    "## Uji hipotesis: Apakah paruh benar-beanar lebih lebar pada 2012?\n",
    "\n",
    "menggunakan ECDF dan interval kepercayaan membarikan gambaran cukup jelas bahwa paruh G. scandens semakin lebar. Tetapi apakah mungkin efek ini hanya karena kebetulan acak? Dengan kata lain, berapakah kemungkinan bahwa kita akan mendapatkan perbedaan mean lebar paruh untuk pengujian berulang, jika meannya sama?"
   ]
  },
  {
   "cell_type": "code",
   "execution_count": 18,
   "metadata": {},
   "outputs": [
    {
     "name": "stdout",
     "output_type": "stream",
     "text": [
      "p = 0.0041\n"
     ]
    }
   ],
   "source": [
    "# menguji null hypotesis \n",
    "# dengan asumsi awal bahwa perbadaan mean hanya terjadi karena kesalahan sampling\n",
    "# jika kedua data sama maka perbedaan mean yang akan terjadi pasti akan cenderung lebih kecil untuk pengujian berulang\n",
    "# untuk menolak hypotesis ini maka akan ada 2 kemungkinan perbedaan mean tetap sama atau lebih besar\n",
    "\n",
    "# membuat mean data kombinasi 1975 dan 2012\n",
    "combined_mean = np.mean(np.concatenate((data_1975, data_2012)))\n",
    "\n",
    "# Shift sampelnya\n",
    "data_1975_shifted = data_1975 - np.mean(data_1975) + combined_mean\n",
    "data_2012_shifted = data_2012 - np.mean(data_2012) + combined_mean\n",
    "\n",
    "# membuat replika bootstrap\n",
    "bs_replicates_1975 = draw_bs_reps(data_1975_shifted, np.mean, 10000)\n",
    "bs_replicates_2012 = draw_bs_reps(data_2012_shifted, np.mean, 10000)\n",
    "\n",
    "# melihat perbadaan mean bootstrap\n",
    "bs_diff_replicates = bs_replicates_2012 - bs_replicates_1975\n",
    "\n",
    "# menhitung p_value\n",
    "p = np.sum(bs_diff_replicates >= mean_diff) / len(bs_diff_replicates)\n",
    "\n",
    "# Print p-value\n",
    "print('p =', p)\n"
   ]
  },
  {
   "cell_type": "markdown",
   "metadata": {},
   "source": [
    "kita mendapatkan p-value 0,0034, nilai yang sangat kecil. nilai ini menolak null hypotesis, yang artinya memang ada perbedaan mean yang signifikan secara statistik. \n"
   ]
  },
  {
   "cell_type": "markdown",
   "metadata": {},
   "source": [
    "## Analisis hubungan panjang paruh dengan lebar paruh\n",
    "\n",
    "salah satu hipotesis terjadinya pertambahan leber paruh adalah kerena kekeringan pada 1975/1976 disana, sehingga populasi tanaman dengan ukuran biji yang kecil mengalami kematian, dan hanya tanaman dengan biji berukuran besar yang dapat selamat. Tanaman berbiji besar butuh paruh yang lebih lebar untuk memecahnya, sehingga burung dengan paruh lebar lah yang selamat dari seleksi ini dan terus berkembang biak hingga sekarang. \n",
    "\n",
    "\n",
    "Apakah akan ada perbedaan antara panjang paruh dan lebarnya, jika panjang dan lebar paruh terus bertambah dengan proporsi yang sama, maka bentuk paruh akan cenderung tetap, dan hanya menjadi lebih besar dari ukuran sebelumnya. Tetapi jika proporsi perubahan panjang dan lebar paruh berubah maka bentuk paruh juga akan berubah seiring waktu"
   ]
  },
  {
   "cell_type": "code",
   "execution_count": 19,
   "metadata": {},
   "outputs": [],
   "source": [
    "# kita pisah data sebelum melakukan ecdf\n",
    "panjang1975 = df1[df1.species == 'scandens'][['blength']]\n",
    "panjang2012 = df2[df2.species == 'scandens'][['blength']]\n",
    "# kita pisah data sebelum melakukan ecdf\n",
    "lebar1975 = df1[df1.species == 'scandens'][['bdepth']]\n",
    "lebar2012 = df2[df2.species == 'scandens'][['bdepth']]"
   ]
  },
  {
   "cell_type": "code",
   "execution_count": 20,
   "metadata": {},
   "outputs": [],
   "source": [
    "# membuat array\n",
    "panjang1975.reset_index(drop=True)\n",
    "panjang2012.reset_index(drop=True)\n",
    "panjang_2012 =  np.array(panjang2012.blength)\n",
    "panjang_1975 =  np.array(panjang1975.blength)\n",
    "\n",
    "lebar1975.reset_index(drop=True)\n",
    "lebar2012.reset_index(drop=True)\n",
    "lebar_2012 =  np.array(lebar2012.bdepth)\n",
    "lebar_1975 =  np.array(lebar1975.bdepth)"
   ]
  },
  {
   "cell_type": "markdown",
   "metadata": {},
   "source": [
    "## EDA dari panjang dan lebar paruh"
   ]
  },
  {
   "cell_type": "code",
   "execution_count": 21,
   "metadata": {},
   "outputs": [
    {
     "data": {
      "image/png": "[encoded data removed]",
      "text/plain": [
       "<Figure size 432x288 with 1 Axes>"
      ]
     },
     "metadata": {
      "needs_background": "light"
     },
     "output_type": "display_data"
    }
   ],
   "source": [
    "# Make scatter plot of 1975 data\n",
    "_ = plt.plot(df1[df1.species=='scandens'].blength, df1[df1.species=='scandens'].bdepth, marker='.',\n",
    "             linestyle='none', color='blue', alpha=0.5)\n",
    "\n",
    "# Make scatter plot of 2012 data\n",
    "_ = plt.plot(df2[df2.species=='scandens'].blength, df2[df2.species=='scandens'].bdepth, marker='.',\n",
    "             linestyle='none', color='red', alpha=0.5)\n",
    "\n",
    "# Label axes and make legend\n",
    "_ = plt.xlabel('panjang paruh (mm)')\n",
    "_ = plt.ylabel('lebar paruh (mm)')\n",
    "_ = plt.legend(('1975', '2012'), loc='upper left')\n",
    "\n",
    "# Show the plot\n",
    "plt.show()"
   ]
  },
  {
   "cell_type": "markdown",
   "metadata": {},
   "source": [
    "dilihat dari plot yang ada, maka pada tahun 2012 paruh menjadi lebih lebar, ditunjukkan olah titik merah yang lebih tinggi pada arah sumbu-y, namun paruh tidak menjadi semakin panjang, malah semakin memendek, ditunjukkan oleh sumbu-x yang didominasi warna biru. Artinya bentuk paruh dalam selang waktu 37 tahun semakin lebar, dan memendek"
   ]
  },
  {
   "cell_type": "markdown",
   "metadata": {},
   "source": [
    "## Regresi linier\n",
    "\n",
    "kita akan melakukan regresi linier untuk data tahun 1975 dan 2012. Kemudian melakukan bootstrap untuk membuat selang kepercayaan  95% untuk slope(koifisien) dan intercept(konsanta) garis regresi.\n",
    "\n"
   ]
  },
  {
   "cell_type": "code",
   "execution_count": 22,
   "metadata": {},
   "outputs": [],
   "source": [
    "# kita akan meggunakan piar bootstrap untuk melakukan replicate dua data ------------------------------------\n",
    "def draw_bs_pairs_linreg(x, y, size=1):\n",
    "    \"\"\"Melakukan bootstrap untuk regrsi linier.\"\"\"\n",
    "\n",
    "    # bikin index yang kemudian akan diambil secara random\n",
    "    inds = np.arange(len(x))\n",
    "\n",
    "    # mulai membuat replika\n",
    "    bs_slope_reps = np.empty(size)\n",
    "    bs_intercept_reps = np.empty(size)\n",
    "\n",
    "    \n",
    "    for i in range(size):\n",
    "    # pemilihan index secara random dimulai\n",
    "        bs_inds = np.random.choice(inds, size=len(inds))\n",
    "\n",
    "        # ambil data x dan y sesuai index random yang dipilih dari inds\n",
    "        bs_x, bs_y = x[bs_inds], y[bs_inds]\n",
    "\n",
    "        bs_slope_reps[i], bs_intercept_reps[i] = np.polyfit(bs_x, bs_y, 1)\n",
    "\n",
    "    return bs_slope_reps, bs_intercept_reps"
   ]
  },
  {
   "cell_type": "code",
   "execution_count": 23,
   "metadata": {},
   "outputs": [
    {
     "name": "stdout",
     "output_type": "stream",
     "text": [
      "1975: slope = 0.46520516916059357 conf int = [0.33640327 0.59656794]\n",
      "1975: intercept = 2.3908752365842285 conf int = [0.55245078 4.21953569]\n",
      "2012: slope = 0.4626303588353126 conf int = [0.33988623 0.60873483]\n",
      "2012: intercept = 2.9772474982360184 conf int = [1.04629377 4.59776105]\n"
     ]
    }
   ],
   "source": [
    "# menghitung regresi liner\n",
    "slope_1975, intercept_1975 = np.polyfit(panjang_1975, lebar_1975, 1)\n",
    "slope_2012, intercept_2012 = np.polyfit(panjang_2012, lebar_2012, 1)\n",
    "\n",
    "# melakukan bootstrap regresi linier\n",
    "bs_slope_reps_1975, bs_intercept_reps_1975 = \\\n",
    "        draw_bs_pairs_linreg(panjang_1975, lebar_1975, 1000)\n",
    "\n",
    "bs_slope_reps_2012, bs_intercept_reps_2012 = \\\n",
    "        draw_bs_pairs_linreg(panjang_2012, lebar_2012, 1000)\n",
    "\n",
    "# menghitung selang kepercayaan (convidence interval)\n",
    "slope_conf_int_1975 = np.percentile(bs_slope_reps_1975, [2.5, 97.5])\n",
    "\n",
    "slope_conf_int_2012 = np.percentile(bs_slope_reps_2012, [2.5, 97.5])\n",
    "\n",
    "intercept_conf_int_1975 = np.percentile(bs_intercept_reps_1975, [2.5, 97.5])\n",
    "\n",
    "intercept_conf_int_2012 = np.percentile(bs_intercept_reps_2012, [2.5, 97.5])\n",
    "\n",
    "\n",
    "\n",
    "print('1975: slope =', slope_1975,\n",
    "      'conf int =', slope_conf_int_1975)\n",
    "print('1975: intercept =', intercept_1975,\n",
    "      'conf int =', intercept_conf_int_1975)\n",
    "print('2012: slope =', slope_2012,\n",
    "      'conf int =', slope_conf_int_2012)\n",
    "print('2012: intercept =', intercept_2012,\n",
    "      'conf int =', intercept_conf_int_2012)"
   ]
  },
  {
   "cell_type": "markdown",
   "metadata": {},
   "source": [
    "Bisa dilihat kalau data memiliki intercept(konsanta) yang sama tetapi slope(variabel regresinya) berbeda"
   ]
  },
  {
   "cell_type": "code",
   "execution_count": 24,
   "metadata": {},
   "outputs": [
    {
     "data": {
      "image/png": "[encoded data removed]",
      "text/plain": [
       "<Figure size 432x288 with 1 Axes>"
      ]
     },
     "metadata": {
      "needs_background": "light"
     },
     "output_type": "display_data"
    }
   ],
   "source": [
    "# membuat scatter plot dari data yang ada\n",
    "_ = plt.plot(panjang_1975, lebar_1975, marker='.',\n",
    "             linestyle='none', color='blue', alpha=0.5)\n",
    "_ = plt.plot(panjang_2012, lebar_2012, marker='.',\n",
    "             linestyle='none', color='red', alpha=0.5)\n",
    "\n",
    "_ = plt.xlabel('beak length (mm)')\n",
    "_ = plt.ylabel('beak depth (mm)')\n",
    "_ = plt.legend(('1975', '2012'), loc='upper left')\n",
    "\n",
    "# rentang nilai untuk bootstaping\n",
    "x = np.array([10, 17])\n",
    "\n",
    "# membuat plot\n",
    "for i in range(100):\n",
    "    plt.plot(x, bs_slope_reps_1975[i]*x + bs_intercept_reps_1975[i],\n",
    "             linewidth=0.5, alpha=0.2, color='blue')\n",
    "    plt.plot(x, bs_slope_reps_2012[i]*x + bs_intercept_reps_2012[i],\n",
    "             linewidth=0.5, alpha=0.2, color='red')\n",
    "\n",
    "plt.show()"
   ]
  },
  {
   "cell_type": "markdown",
   "metadata": {},
   "source": [
    "## Rasio panjang dan lebar paruh\n",
    "\n",
    "Regresi linier menunjukkan informasi menarik tentang geometri paruh. Kemiringannya(variabel regresi) sama pada tahun 1975 dan 2012 yaitu sebesar 0.46, menunjukkan bahwa untuk setiap milimeter pertambahan panjang paruh, burung-burung tersebut memperoleh pelebaran paruh sebesar 0.46 milimeter.\n",
    "\n",
    "Namun, jika kita tertarik dengan bentuk paruh, kita ingin membandingkan rasio panjang paruh dengan lebar paruh."
   ]
  },
  {
   "cell_type": "code",
   "execution_count": 25,
   "metadata": {},
   "outputs": [
    {
     "name": "stdout",
     "output_type": "stream",
     "text": [
      "1975: mean ratio = 1.5788823771858533 conf int = [1.55664114 1.60086802]\n",
      "2012: mean ratio = 1.4658342276847767 conf int = [1.44394157 1.48749437]\n",
      "mean ratio decrease in 37 year = 7.160010849102634\n"
     ]
    },
    {
     "data": {
      "image/png": "[encoded data removed]",
      "text/plain": [
       "<Figure size 432x288 with 1 Axes>"
      ]
     },
     "metadata": {
      "needs_background": "light"
     },
     "output_type": "display_data"
    }
   ],
   "source": [
    "# Compute length-to-depth ratios\n",
    "ratio_1975 = panjang_1975/lebar_1975\n",
    "ratio_2012 = panjang_2012/lebar_2012\n",
    "\n",
    "# Compute means\n",
    "mean_ratio_1975 = np.mean(ratio_1975)\n",
    "mean_ratio_2012 = np.mean(ratio_2012)\n",
    "\n",
    "# Generate bootstrap replicates of the means\n",
    "bs_replicates_1975 = draw_bs_reps(ratio_1975, np.mean, 10000)\n",
    "bs_replicates_2012 = draw_bs_reps(ratio_2012, np.mean, 10000)\n",
    "\n",
    "# Compute the 99% confidence intervals\n",
    "conf_int_1975 = np.percentile(bs_replicates_1975,[0.5, 99.5])\n",
    "conf_int_2012 = np.percentile(bs_replicates_2012,[0.5, 99.5])\n",
    "\n",
    "# Print the results\n",
    "print('1975: mean ratio =', mean_ratio_1975,\n",
    "      'conf int =', conf_int_1975)\n",
    "print('2012: mean ratio =', mean_ratio_2012,\n",
    "      'conf int =', conf_int_2012)\n",
    "print ('mean ratio decrease in 37 year =', (mean_ratio_1975-mean_ratio_2012)/mean_ratio_1975*100)\n",
    "_ = plt.plot(conf_int_1975)\n",
    "_ = plt.plot(conf_int_2012)\n",
    "plt.show()"
   ]
  },
  {
   "cell_type": "markdown",
   "metadata": {},
   "source": [
    "Rasio panjang dan lebar paruh rata-rata menurun sekitar 0,1 milimeter, atau 7.16%, dari 1975 hingga 2012. bahkan dengan selang kepercayaan 99% data sangat jauh dari bersinggungan, hal ini menunjukkan perubahan yang nyata. Bentuk paruh benar-benar berubah."
   ]
  },
  {
   "cell_type": "markdown",
   "metadata": {},
   "source": [
    "## Perhitungan heritabilitas\n",
    "\n",
    "Apa penyebab sebenarnya terjadi penambahan lebar paruh pada burung scandens, pada pendapat pertama hal ini terjadi karena bencana kekeringan disana yang menyababkan punahnya tanaman berbiji kecil. Akan tetapi dapat dilihat juga kalau dari awal 1975 sudah terdapat burung scandens dengan paruh yang lebar. Hal ini karena terjadi persilangan antara species scandens dengan fortis yang memiliki paruh lebih lebar. Selanjutnya kita akan melihat pengaruh heritabilitas(keturunan) terhadap perubahan lebar paruh."
   ]
  },
  {
   "cell_type": "code",
   "execution_count": 26,
   "metadata": {},
   "outputs": [],
   "source": [
    "# kita buat array untuk scandens dan fortis\n",
    "\n",
    "df3 = pd.read_csv('scandens_beak_depth_heredity.csv')\n",
    "df4 = pd.read_csv('fortis_beak_depth_heredity.csv')"
   ]
  },
  {
   "cell_type": "code",
   "execution_count": 27,
   "metadata": {},
   "outputs": [],
   "source": [
    "# nilai dari lebar_parent_scandens adalah rata-rata antara jantan dan betina\n",
    "lebar_parent_scandens = np.array(df3.mid_parent)\n",
    "lebar_offspring_scandens = np.array(df3.mid_offspring)\n"
   ]
  },
  {
   "cell_type": "code",
   "execution_count": 28,
   "metadata": {},
   "outputs": [],
   "source": [
    "# menghitung rata-rata jantan dan betina\n",
    "df4['mean'] = df4.apply(lambda x :(x['Male BD']+x['Female BD'])/2, axis=1)"
   ]
  },
  {
   "cell_type": "code",
   "execution_count": 29,
   "metadata": {},
   "outputs": [],
   "source": [
    "lebar_parent_fortis = np.array(df4['mean'])\n",
    "lebar_offspring_fortis = np.array(df4['Mid-offspr'])"
   ]
  },
  {
   "cell_type": "code",
   "execution_count": 30,
   "metadata": {},
   "outputs": [
    {
     "data": {
      "image/png": "[encoded data removed]",
      "text/plain": [
       "<Figure size 432x288 with 1 Axes>"
      ]
     },
     "metadata": {
      "needs_background": "light"
     },
     "output_type": "display_data"
    }
   ],
   "source": [
    "# membuat plot\n",
    "_ = plt.plot(lebar_parent_fortis, lebar_offspring_fortis,\n",
    "             marker='.', linestyle='none', color='blue', alpha=0.5)\n",
    "_ = plt.plot(lebar_parent_scandens, lebar_offspring_scandens,\n",
    "             marker='.', linestyle='none', color='red', alpha=0.5)\n",
    "\n",
    "_ = plt.xlabel('lebar paruh orang tua(mm)')\n",
    "_ = plt.ylabel('lebar paruh anak (mm)')\n",
    "_ = plt.legend(('G. fortis', 'G. scandens'), loc='lower right')\n",
    "\n",
    "\n",
    "plt.show()\n"
   ]
  },
  {
   "cell_type": "markdown",
   "metadata": {},
   "source": [
    "dari plot terlihat bahwa korelasi yang lebih kuat ditunjukan oleh orang tua species fortis dibandingkan dari species scandens. Ini menunjukkan bahwa lebar paruh lebih kuat diwariskan dari gen species fortis."
   ]
  },
  {
   "cell_type": "markdown",
   "metadata": {},
   "source": [
    "## Korelasi keturunan antara anak dan orang tua\n",
    "\n",
    "Untuk menghitung korelasi keturunan antara  lebar paruh anak dan orangtua, kita akan menghitung secara statistik, seperti koefisien korelasi Pearson antara orangtua dan anak, Mencari interval kepercayaan\n",
    "\n"
   ]
  },
  {
   "cell_type": "code",
   "execution_count": 31,
   "metadata": {},
   "outputs": [],
   "source": [
    "#kita akan membuta fungsi pair bootstrap untuk melihat nilai dengan fungsi statistik yang kita mau\n",
    "\n",
    "def draw_bs_pairs(x, y, func, size=1):\n",
    "    \"\"\"fungsi pair bootstrap untuk menentukan statistik yang kita mau\"\"\"\n",
    "\n",
    "    # set nilai array\n",
    "    inds = np.arange(len(x))\n",
    "\n",
    "    # buat replika\n",
    "    bs_replicates = np.empty(size)\n",
    "    for i in range(size):\n",
    "        bs_inds = np.random.choice(inds, size=len(inds))\n",
    "        bs_x, bs_y = x[bs_inds], y[bs_inds]\n",
    "        bs_replicates[i] = func(bs_x, bs_y)\n",
    "\n",
    "    return bs_replicates"
   ]
  },
  {
   "cell_type": "markdown",
   "metadata": {},
   "source": [
    "## Korelasi Pearson antara anak  dan orang tua\n",
    "\n",
    "Koefisien korelasi Pearson sepertinya merupakan pilihan yang tepat untuk melihat seberapa kuat hubungan antara lebar paruh orang tua yang diwariskan ke keturunan mereka."
   ]
  },
  {
   "cell_type": "code",
   "execution_count": 32,
   "metadata": {},
   "outputs": [],
   "source": [
    "def pearson_r(x, y):\n",
    "    \"\"\"menhitung korelasi pearson antara dua array\"\"\"   \n",
    "    corr_mat = np.corrcoef(x,y)    \n",
    "    return corr_mat[0,1]"
   ]
  },
  {
   "cell_type": "code",
   "execution_count": 33,
   "metadata": {},
   "outputs": [
    {
     "name": "stdout",
     "output_type": "stream",
     "text": [
      "spesies scandens: 0.41170636294012586 [0.26696817 0.53655113]\n",
      "spesies fortis: 0.7283412395518486 [0.66681368 0.77827427]\n"
     ]
    }
   ],
   "source": [
    "# Menghitung korelasi person data yang ada\n",
    "r_scandens = pearson_r(lebar_parent_scandens, lebar_offspring_scandens)\n",
    "r_fortis = pearson_r(lebar_parent_fortis, lebar_offspring_fortis)\n",
    "\n",
    "# malakukan bootstaping untuk fungsi Pearson r\n",
    "bs_replicates_scandens = draw_bs_pairs(lebar_parent_scandens, lebar_offspring_scandens,pearson_r,1000)\n",
    "bs_replicates_fortis = draw_bs_pairs(lebar_parent_fortis, lebar_offspring_fortis, pearson_r, 1000)\n",
    "\n",
    "\n",
    "# menghitung 95% selang kepercayaan\n",
    "conf_int_scandens = np.percentile(bs_replicates_scandens,[2.5,97.5])\n",
    "conf_int_fortis = np.percentile(bs_replicates_fortis,[2.5,97.5])\n",
    "\n",
    "print('spesies scandens:', r_scandens, conf_int_scandens)\n",
    "print('spesies fortis:', r_fortis, conf_int_fortis)\n"
   ]
  },
  {
   "cell_type": "markdown",
   "metadata": {},
   "source": [
    "Jelas terlihat dari interval kepercayaan bahwa, paruh anak-anak keturunan yang ada berkorelasi lebih kuat denga orang tua species fortis daripada species scandens."
   ]
  },
  {
   "cell_type": "markdown",
   "metadata": {},
   "source": [
    "## Mengukur heritabilitas\n",
    "\n",
    "dari awal kita menggunakan koefisien korelasi Pearson antara rasio varian anak keturunan dengan rata-rata varian dari kedua orang tua. \n",
    "\n",
    "tetapi untuk melihat keterkaitan heritabilitas mungkin akan lebih masuk akal jika kita  mendefinisikan heritabilitas sebagai rasio kovarians antara orang tua dan anak dibandingkan dengan varian data orang tua. Dalam hal ini kita akan memperkirakan heritabilitas dan melakukan perhitungan bootstrap untuk mendapatkan interval kepercayaan 95%.\n",
    "\n"
   ]
  },
  {
   "cell_type": "code",
   "execution_count": 34,
   "metadata": {},
   "outputs": [
    {
     "name": "stdout",
     "output_type": "stream",
     "text": [
      "G. scandens: 0.5485340868685983 [0.34630122 0.75896698]\n",
      "G. fortis: 0.7229051911438156 [0.64086378 0.79791   ]\n"
     ]
    }
   ],
   "source": [
    "def heritability(parents, offspring):\n",
    "    \"\"\"Compute the heritability from parent and offspring samples.\"\"\"\n",
    "    covariance_matrix = np.cov(parents, offspring)\n",
    "    return covariance_matrix[1,0] / covariance_matrix[0,0]\n",
    "\n",
    "# Compute the heritability\n",
    "heritability_scandens = heritability(lebar_parent_scandens, lebar_offspring_scandens)\n",
    "heritability_fortis = heritability(lebar_parent_fortis, lebar_offspring_fortis)\n",
    "\n",
    "# Acquire 1000 bootstrap replicates of heritability\n",
    "replicates_scandens = draw_bs_pairs(lebar_parent_scandens, lebar_offspring_scandens, heritability, size=1000)\n",
    "        \n",
    "replicates_fortis = draw_bs_pairs(lebar_parent_fortis, lebar_offspring_fortis, heritability, size=1000)\n",
    "\n",
    "\n",
    "# Compute 95% confidence intervals\n",
    "conf_int_scandens = np.percentile(replicates_scandens,[2.5,97.5])\n",
    "conf_int_fortis = np.percentile(replicates_fortis,[2.5,97.5])\n",
    "\n",
    "# Print results\n",
    "print('G. scandens:', heritability_scandens, conf_int_scandens)\n",
    "print('G. fortis:', heritability_fortis, conf_int_fortis)\n"
   ]
  },
  {
   "cell_type": "markdown",
   "metadata": {},
   "source": [
    "Sekali lagi, kita melihat bahwa spesies fortis memiliki heritabilitas yang lebih kuat daripada spesies scandens."
   ]
  },
  {
   "cell_type": "markdown",
   "metadata": {},
   "source": [
    "kita juga bisa melakukan null hypitesis untuk melihat apakah species fortis benar benar lebih tinggi dari spesies scandens"
   ]
  },
  {
   "cell_type": "code",
   "execution_count": 35,
   "metadata": {},
   "outputs": [
    {
     "name": "stdout",
     "output_type": "stream",
     "text": [
      "p-val = 0.0\n"
     ]
    }
   ],
   "source": [
    "# Initialize array of replicates: perm_replicates\n",
    "perm_replicates = np.empty(10000)\n",
    "\n",
    "# Draw replicates\n",
    "for i in range(10000):\n",
    "    # Permute parent beak depths\n",
    "    bd_parent_permuted = np.random.permutation(lebar_parent_scandens)\n",
    "    perm_replicates[i] = heritability(bd_parent_permuted,\n",
    "                                      lebar_offspring_scandens)\n",
    "\n",
    "# Compute p-value: p\n",
    "p = np.sum(perm_replicates >= heritability_scandens) / len(perm_replicates)\n",
    "\n",
    "# Print the p-value\n",
    "print('p-val =', p)\n"
   ]
  },
  {
   "cell_type": "markdown",
   "metadata": {},
   "source": [
    "dengan p-value nol maka dari 10000 permutasi tidak ada kemungkinan dimana hereditas scandens lebih besar dari fortis, sehingaa sudah sangat tepat bahwa spesies fortis lah yang berperan besar terhadap perubahan bentuk paruh spesies scandens dalam 37 tahun pengambilan sampel."
   ]
  },
  {
   "cell_type": "code",
   "execution_count": null,
   "metadata": {},
   "outputs": [],
   "source": []
  }
 ],
 "metadata": {
  "kernelspec": {
   "display_name": "Python 3",
   "language": "python",
   "name": "python3"
  },
  "language_info": {
   "codemirror_mode": {
    "name": "ipython",
    "version": 3
   },
   "file_extension": ".py",
   "mimetype": "text/x-python",
   "name": "python",
   "nbconvert_exporter": "python",
   "pygments_lexer": "ipython3",
   "version": "3.7.3"
  }
 },
 "nbformat": 4,
 "nbformat_minor": 2
}
